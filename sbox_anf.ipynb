{
 "cells": [
  {
   "cell_type": "code",
   "execution_count": 3,
   "metadata": {
    "collapsed": false
   },
   "outputs": [
   ],
   "source": [
    "from sage.crypto.sbox import SBox\n",
    "from sage.crypto.boolean_function import BooleanFunction\n",
    "\n",
    "S = [0x7,0x4,0xA,0x9,0x1,0xF,0xB,0x0,0xC,0x3,0x2,0x6,0x8,0xE,0xD,0x5]\n",
    "file_polynomial = 'klein/sub_equation.anf'\n",
    "\n",
    "sbox = SBox(*[S])\n",
    "P.<y0,y1,y2,y3,x0,x1,x2,x3> = BooleanPolynomialRing(8)\n",
    "py_p = sbox.polynomials([x0,x1,x2,x3],[y0,y1,y2,y3], groebner=True)\n",
    "py_s = map(lambda x: str(x), py_p)\n",
    "\n",
    "with open(file_polynomial,\"w\") as file:\n",
    "    file.write(\"ANF =\\n[\")\n",
    "    for s in range(bits//4):\n",
    "        for py in py_s:\n",
    "            newp = py.replace(\"x0\",\"x_%s_%s_%s\"%(0,1,str(0+4*s).zfill(2)))\n",
    "            newp = newp.replace(\"x1\",\"x_%s_%s_%s\"%(0,1,str(1+4*s).zfill(2)))\n",
    "            newp = newp.replace(\"x2\",\"x_%s_%s_%s\"%(0,1,str(2+4*s).zfill(2)))\n",
    "            newp = newp.replace(\"x3\",\"x_%s_%s_%s\"%(0,1,str(3+4*s).zfill(2)))\n",
    "            newp = newp.replace(\"y0\",\"s_%s_%s_%s\"%(0,1,str(0+4*s).zfill(2)))\n",
    "            newp = newp.replace(\"y1\",\"s_%s_%s_%s\"%(0,1,str(1+4*s).zfill(2)))\n",
    "            newp = newp.replace(\"y2\",\"s_%s_%s_%s\"%(0,1,str(2+4*s).zfill(2)))\n",
    "            newp = newp.replace(\"y3\",\"s_%s_%s_%s\"%(0,1,str(3+4*s).zfill(2)))\n",
    "            file.write(newp+\",\\n\")\n",
    "    file.write(\"]\\n\")"
   ]
  },
  {
   "cell_type": "code",
   "execution_count": 0,
   "metadata": {
    "collapsed": false
   },
   "outputs": [
   ],
   "source": [
   ]
  }
 ],
 "metadata": {
  "kernelspec": {
   "display_name": "SageMath (stable)",
   "language": "sagemath",
   "metadata": {
    "cocalc": {
     "description": "Open-source mathematical software system",
     "priority": 10,
     "url": "https://www.sagemath.org/"
    }
   },
   "name": "sagemath"
  },
  "language_info": {
   "codemirror_mode": {
    "name": "ipython",
    "version": 2
   },
   "file_extension": ".py",
   "mimetype": "text/x-python",
   "name": "python",
   "nbconvert_exporter": "python",
   "pygments_lexer": "ipython2",
   "version": "2.7.15"
  }
 },
 "nbformat": 4,
 "nbformat_minor": 0
}