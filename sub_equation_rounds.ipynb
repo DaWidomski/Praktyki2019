{
 "cells": [
  {
   "cell_type": "code",
   "execution_count": 1,
   "metadata": {
    "collapsed": false
   },
   "outputs": [
    {
     "name": "stdout",
     "output_type": "stream",
     "text": [
      "m = 4\n",
      "n = 4\n",
      "[[0, 1, 1, 1],\n",
      " [0, 1, 0, 0],\n",
      " [1, 0, 1, 0],\n",
      " [1, 0, 0, 1],\n",
      " [0, 0, 0, 1],\n",
      " [1, 1, 1, 1],\n",
      " [1, 0, 1, 1],\n",
      " [0, 0, 0, 0],\n",
      " [1, 1, 0, 0],\n",
      " [0, 0, 1, 1],\n",
      " [0, 0, 1, 0],\n",
      " [0, 1, 1, 0],\n",
      " [1, 0, 0, 0],\n",
      " [1, 1, 1, 0],\n",
      " [1, 1, 0, 1],\n",
      " [0, 1, 0, 1]]\n",
      "[x0*x1*x3 + x0*x2 + x0*x3 + x1*x2*x3 + x1 + x3,\n",
      " x0*x1*x2 + x0*x2*x3 + x0*x2 + x0*x3 + x1*x2*x3 + x1*x2 + x1 + x2 + 1,\n",
      " x0*x1*x3 + x0 + x1*x2 + x1*x3 + x2*x3 + x2 + x3 + 1,\n",
      " x0*x1*x2 + x0*x1*x3 + x0*x2 + x0 + x1*x2 + x1*x3 + x1 + x3 + 1]\n"
     ]
    },
    {
     "data": {
      "text/plain": [
       "[x0*x1*x2 + x0*x1*x3 + x0*x1*k0*k1*k2 + x0*x1*k0*k1*k3 + x0*x1*k0*k2*k3 + x0*x1*k1*k2 + x0*x1*k2 + x0*x1*k3 + x0*x1 + x0*x2*k0*k1*k3 + x0*x2*k0 + x0*x2*k1*k2 + x0*x2*k1*k3 + x0*x2*k2*k3 + x0*x2*k2 + x0*x2*k3 + x0*x3*k0*k1*k3 + x0*x3*k0 + x0*x3*k1*k2 + x0*x3*k1*k3 + x0*x3*k2*k3 + x0*x3*k2 + x0*x3*k3 + x0*x3 + x0*k0*k1*k3 + x0*k0 + x0*k1 + x0*k2*k3 + x0*k3 + x0 + x1*x2*k0*k1*k2 + x1*x2*k0*k1*k3 + x1*x2*k0*k2 + x1*x2*k0 + x1*x2*k1*k2 + x1*x2*k1*k3 + x1*x2*k1 + x1*x2*k3 + x1*x3*k0*k1*k2 + x1*x3*k0*k1*k3 + x1*x3*k0*k2 + x1*x3*k0 + x1*x3*k1*k2 + x1*x3*k1*k3 + x1*x3*k1 + x1*x3*k3 + x1*k0*k1*k3 + x1*k0*k2 + x1*k0*k3 + x1*k0 + x1*k1*k2 + x1*k1*k3 + x1*k1 + x1*k2*k3 + x1 + x2*k0*k1 + x2*k0*k2*k3 + x2*k0*k2 + x2*k0 + x2*k1*k3 + x2*k3 + x2 + x3*k0*k1*k2 + x3*k0*k1*k3 + x3*k0*k1 + x3*k0*k2*k3 + x3*k1*k2 + x3*k1 + x3 + k0,\n",
       " x0*x1*x2 + x0*x1*k0*k1*k2 + x0*x1*k0*k2*k3 + x0*x1*k0*k2 + x0*x1*k0*k3 + x0*x1*k1*k2*k3 + x0*x1*k1*k2 + x0*x1*k1 + x0*x1*k2 + x0*x1 + x0*x2*k0*k1*k3 + x0*x2*k0 + x0*x2*k1*k2 + x0*x2*k1*k3 + x0*x2*k2*k3 + x0*x2*k2 + x0*x2*k3 + x0*k0*k1*k2 + x0*k0*k1 + x0*k0*k2 + x0*k0 + x0*k1*k3 + x0*k2*k3 + x0*k3 + x1*x2*k0*k1*k2 + x1*x2*k0*k1*k3 + x1*x2*k0*k2 + x1*x2*k0 + x1*x2*k1*k2 + x1*x2*k1*k3 + x1*x2*k1 + x1*x2*k3 + x1*x2 + x1*k0*k1*k3 + x1*k0*k1 + x1*k0*k3 + x1*k0 + x1*k1*k2 + x1*k1*k3 + x1*k1 + x1*k2*k3 + x1*k2 + x1*k3 + x2*x3 + x2*k0*k1 + x2*k0*k2*k3 + x2*k0*k3 + x2*k1*k2*k3 + x2*k1*k2 + x2*k1 + x2*k2*k3 + x2*k2 + x2*k3 + x2 + x3*k0*k1*k2 + x3*k0*k2*k3 + x3*k0*k2 + x3*k0*k3 + x3*k1*k2*k3 + x3*k1*k2 + x3*k1 + x3*k2 + x3 + k0 + k1,\n",
       " x0*x2*x3 + x0*x2*k0*k1*k3 + x0*x2*k0*k2 + x0*x2*k0*k3 + x0*x2*k1*k2*k3 + x0*x2*k1 + x0*x2*k3 + x0*x3*k0*k1*k2 + x0*x3*k0*k2*k3 + x0*x3*k0*k2 + x0*x3*k0*k3 + x0*x3*k1*k2*k3 + x0*x3*k1*k2 + x0*x3*k1 + x0*x3*k2 + x0*k0*k1*k2 + x0*k0*k2*k3 + x0*k1*k2*k3 + x0*k1*k3 + x0*k1 + x0*k2*k3 + x1*x2*x3 + x1*x2*k0*k1*k3 + x1*x2*k0*k2 + x1*x2*k0*k3 + x1*x2*k1*k2*k3 + x1*x2*k1 + x1*x2*k3 + x1*x2 + x1*x3*k0*k1*k2 + x1*x3*k0*k2*k3 + x1*x3*k0*k2 + x1*x3*k0*k3 + x1*x3*k1*k2*k3 + x1*x3*k1*k2 + x1*x3*k1 + x1*x3*k2 + x1*x3 + x1*k0*k1*k3 + x1*k1*k2*k3 + x1*k1*k2 + x1*k1*k3 + x1*k1 + x1*k2*k3 + x1*k2 + x1*k3 + x1 + x2*x3*k0*k1*k2 + x2*x3*k0*k2 + x2*x3*k1 + x2*x3*k2*k3 + x2*x3*k2 + x2*x3 + x2*k0*k2*k3 + x2*k0*k2 + x2*k0*k3 + x2*k0 + x2*k1*k2*k3 + x2*k2*k3 + x2*k2 + x2 + x3*k0*k3 + x3*k0 + x3*k1*k3 + x3*k2 + x3*k3 + k0 + k1 + k2,\n",
       " x0*x1*x3 + x0*x1*k0*k1*k3 + x0*x1*k0*k2 + x0*x1*k0*k3 + x0*x1*k1*k2*k3 + x0*x1*k1 + x0*x1*k3 + x0*x2*x3 + x0*x2*k0*k1*k3 + x0*x2*k0*k2 + x0*x2*k0*k3 + x0*x2*k1*k2*k3 + x0*x2*k1 + x0*x2*k3 + x0*x2 + x0*x3*k0*k1*k2 + x0*x3*k0*k1*k3 + x0*x3*k0*k2*k3 + x0*x3*k0*k2 + x0*x3*k0*k3 + x0*x3*k0 + x0*x3*k1*k2*k3 + x0*x3*k1*k3 + x0*x3*k1 + x0*x3*k2*k3 + x0*x3*k3 + x0*k0*k1*k2 + x0*k0*k1 + x0*k0*k2 + x0*k1*k2*k3 + x0*k1*k2 + x0*k2*k3 + x0*k2 + x0*k3 + x0 + x1*x2 + x1*x3*k0*k1*k2 + x1*x3*k0*k1*k3 + x1*x3*k0*k2 + x1*x3*k0 + x1*x3*k1*k2 + x1*x3*k1*k3 + x1*x3*k1 + x1*x3*k3 + x1*x3 + x1*k0*k1*k3 + x1*k0*k1 + x1*k0*k3 + x1*k1*k2*k3 + x1*k1 + x1*k2 + x2*x3*k0*k1*k2 + x2*x3*k0*k1*k3 + x2*x3*k0*k2 + x2*x3*k0 + x2*x3*k1*k2 + x2*x3*k1*k3 + x2*x3*k1 + x2*x3*k3 + x2*k0*k1 + x2*k0*k2*k3 + x2*k0*k2 + x2*k0*k3 + x2*k1*k2*k3 + x2*k1*k2 + x2*k2*k3 + x2*k2 + x2*k3 + x3*k0*k1*k3 + x3*k0*k2 + x3*k1*k2*k3 + x3*k1 + x3*k2 + k0 + k1 + k2 + k3]"
      ]
     },
     "execution_count": 1,
     "metadata": {
     },
     "output_type": "execute_result"
    }
   ],
   "source": [
    "import pprint\n",
    "from sage.crypto.sbox import SBox\n",
    "from sage.crypto.boolean_function import BooleanFunction\n",
    "\n",
    "S = [0x7, 0x4, 0xA, 0x9, 0x1, 0xF, 0xB, 0x0, 0xC, 0x3, 0x2, 0x6, 0x8, 0xE, 0xD, 0x5]\n",
    "SB = SBox(S) \n",
    "SS = [SB.to_bits(SB(s),SB.n) for s in range(len(S))]\n",
    "pprint.pprint(SS)\n",
    "T = zip(*SS)\n",
    "pprint.pprint([BooleanFunction(t).algebraic_normal_form() for t in T])\n",
    "P.<x0,x1,x2,x3,k0,k1,k2,k3> = BooleanPolynomialRing(8)\n",
    "K=[k0,k1,k2,k3]\n",
    "X=[x0,x1,x2,x3]\n",
    "\n",
    "\n",
    "def fxor(X, K):\n",
    "    A=[0,0,0,0]\n",
    "    for i in range(len(X)):\n",
    "        A[i]=X[i]+K[i]\n",
    "    return A\n",
    "\n",
    "def sb(X):\n",
    "\n",
    "    x0=X[0]\n",
    "    x1=X[1]\n",
    "    x2=X[2]\n",
    "    x3=X[3]\n",
    "    A=[0,0,0,0]\n",
    "    A[3]=x0*x1*x3 + x0*x2 + x0*x3 + x1*x2*x3 + x1 + x3\n",
    "    A[2]=x0*x1*x2 + x0*x2*x3 + x0*x2 + x0*x3 + x1*x2*x3 + x1*x2 + x1 + x2 + 1\n",
    "    A[1]=x0*x1*x3 + x0 + x1*x2 + x1*x3 + x2*x3 + x2 + x3 + 1\n",
    "    A[0]=x0*x1*x2 + x0*x1*x3 + x0*x2 + x0 + x1*x2 + x1*x3 + x1 + x3 + 1\n",
    "    return A\n",
    "\n",
    "\n",
    "def f2(X):\n",
    "    a0=X[0]\n",
    "    a1=a0+X[1]\n",
    "    a2=a1+X[2]\n",
    "    a3=a2+X[3]\n",
    "    return [a0,a1,a2,a3]\n",
    "\n",
    "def runda(X,K):\n",
    "    A=fxor(X,sb(K))\n",
    "    return f2(sb(A));\n",
    "\n",
    "\n",
    "\n",
    "runda(X,K)"
   ]
  },
  {
   "cell_type": "code",
   "execution_count": 0,
   "metadata": {
    "collapsed": false
   },
   "outputs": [
   ],
   "source": [
   ]
  }
 ],
 "metadata": {
  "kernelspec": {
   "display_name": "SageMath (stable)",
   "language": "sagemath",
   "metadata": {
    "cocalc": {
     "description": "Open-source mathematical software system",
     "priority": 10,
     "url": "https://www.sagemath.org/"
    }
   },
   "name": "sagemath"
  },
  "language_info": {
   "codemirror_mode": {
    "name": "ipython",
    "version": 2
   },
   "file_extension": ".py",
   "mimetype": "text/x-python",
   "name": "python",
   "nbconvert_exporter": "python",
   "pygments_lexer": "ipython2",
   "version": "2.7.12+"
  }
 },
 "nbformat": 4,
 "nbformat_minor": 0
}