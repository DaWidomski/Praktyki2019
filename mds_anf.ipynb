{
 "cells": [
  {
   "cell_type": "code",
   "execution_count": 7,
   "metadata": {
    "collapsed": false
   },
   "outputs": [
   ],
   "source": [
    "from sage.crypto.sbox import SBox\n",
    "from sage.crypto.boolean_function import BooleanFunction\n",
    "\n",
    "file_polynomial = 'klein/mix_equation.anf'\n",
    "bits = 64\n",
    "pairs = 1\n",
    "rounds = 1\n",
    "for p in range(pairs):\n",
    "    for r in range(1,rounds+1):\n",
    "        for b in range(bits):\n",
    "            sy=' + p_%s_%s_%s'%(p,r,str(i+16*b).zfill(2))\n",
    "\n",
    "#var += [for p in range(pairs) for r in range(1,rounds+1)\n",
    "mds = [\n",
    "    [1, 1, 1, 1, 1, 1, 0, 1, 1, 1, 0, 0, 1, 1, 0, 0],\n",
    "    [0, 1, 0, 0, 1, 1, 0, 1, 1, 0, 1, 1, 1, 1, 0, 1],\n",
    "    [1, 1, 0, 1, 1, 1, 0, 1, 0, 0, 1, 0, 0, 1, 1, 0],\n",
    "    [1, 1, 1, 0, 1, 0, 0, 0, 0, 1, 0, 1, 0, 0, 0, 1],\n",
    "    [1, 0, 1, 0, 0, 1, 0, 1, 0, 0, 0, 1, 0, 0, 1, 1],\n",
    "    [0, 1, 1, 1, 1, 1, 1, 1, 0, 1, 0, 1, 1, 1, 1, 1],\n",
    "    [0, 1, 1, 0, 1, 0, 1, 1, 0, 0, 0, 0, 1, 1, 1, 0],\n",
    "    [0, 0, 1, 1, 1, 0, 1, 0, 0, 0, 0, 1, 0, 0, 1, 0],\n",
    "    [1, 0, 1, 0, 0, 0, 0, 1, 1, 1, 0, 0, 0, 0, 1, 1],\n",
    "    [0, 0, 0, 1, 0, 1, 1, 1, 0, 0, 0, 0, 1, 0, 1, 0],\n",
    "    [0, 0, 1, 0, 0, 1, 0, 1, 1, 0, 0, 0, 0, 0, 0, 1],\n",
    "    [1, 1, 1, 1, 0, 1, 1, 0, 0, 0, 0, 0, 1, 0, 0, 0],\n",
    "    [1, 1, 0, 0, 0, 0, 0, 0, 1, 0, 0, 0, 1, 0, 1, 0],\n",
    "    [1, 0, 1, 0, 1, 0, 1, 1, 1, 1, 1, 0, 0, 0, 0, 1],\n",
    "    [1, 0, 1, 0, 1, 0, 1, 1, 0, 0, 1, 1, 1, 1, 1, 1],\n",
    "    [1, 0, 1, 0, 0, 1, 0, 0, 0, 1, 0, 0, 0, 1, 1, 1]\n",
    "]\n",
    "\n",
    "with open(file_polynomial,\"w\") as file:\n",
    "    file.write(\"ANF = [\\n\")\n",
    "    for a in range(4):\n",
    "        for b in range(bits//4):\n",
    "            py = 'm_%s_%s_%s'%(0,1,str(b+16*a).zfill(2))\n",
    "            for i in range(bits//4):\n",
    "                if mds[i][b]:\n",
    "                    py += ' + p_%s_%s_%s'%(p,r,str(i+16*a).zfill(2))\n",
    "            file.write(py+',\\n')\n",
    "    file.write(\"]\\n\")"
   ]
  },
  {
   "cell_type": "code",
   "execution_count": 0,
   "metadata": {
    "collapsed": false
   },
   "outputs": [
   ],
   "source": [
   ]
  },
  {
   "cell_type": "code",
   "execution_count": 0,
   "metadata": {
    "collapsed": false
   },
   "outputs": [
   ],
   "source": [
   ]
  }
 ],
 "metadata": {
  "kernelspec": {
   "display_name": "SageMath (stable)",
   "language": "sagemath",
   "metadata": {
    "cocalc": {
     "description": "Open-source mathematical software system",
     "priority": 10,
     "url": "https://www.sagemath.org/"
    }
   },
   "name": "sagemath"
  },
  "language_info": {
   "codemirror_mode": {
    "name": "ipython",
    "version": 2
   },
   "file_extension": ".py",
   "mimetype": "text/x-python",
   "name": "python",
   "nbconvert_exporter": "python",
   "pygments_lexer": "ipython2",
   "version": "2.7.12+"
  }
 },
 "nbformat": 4,
 "nbformat_minor": 0
}