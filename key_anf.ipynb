{
 "cells": [
  {
   "cell_type": "code",
   "execution_count": 2,
   "metadata": {
    "collapsed": false
   },
   "outputs": [
   ],
   "source": [
    "from sage.crypto.sbox import SBox\n",
    "from sage.crypto.boolean_function import BooleanFunction\n",
    "\n",
    "S = [0x7,0x4,0xA,0x9,0x1,0xF,0xB,0x0,0xC,0x3,0x2,0x6,0x8,0xE,0xD,0x5]\n",
    "\n",
    "file_polynomial = 'klein/key_equation.anf'\n",
    "\n",
    "SB = SBox(S)\n",
    "SS = [SB.to_bits(SB(s),SB.n) for s in range(len(S))]\n",
    "kp = [a for a in range(24,32)] + [a for a in range(0,24)] + [a for a in range(56,64)] + [a for a in range(32,56)]\n",
    "sbox = SBox(*[S])\n",
    "P.<y0,y1,y2,y3,x0,x1,x2,x3> = BooleanPolynomialRing(8)\n",
    "py_p = sbox.polynomials([x0,x1,x2,x3],[y0,y1,y2,y3], groebner=True)\n",
    "py_s = map(lambda x: str(x), py_p)\n",
    "\n",
    "with open(file_polynomial,\"w\") as file:\n",
    "    file.write(\"ANF =\\n[\")\n",
    "    for r in range(1,13):\n",
    "        for i in range(64):\n",
    "            m = str(i).zfill(2)\n",
    "            n_m = str(kp[i]).zfill(2)\n",
    "            file.write(\"kr_%s_%s\"%(r,n_m) + \" + ki_%s_%0s\"%(r,m)+\",\\n\")\n",
    "        for i in range(32):\n",
    "            m = str(i).zfill(2)\n",
    "            n_m = str(i+32).zfill(2)\n",
    "            file.write(\"kw_%s_%s\"%(r,m) +  \" + kr_%s_%0s\"%(r,n_m)+\",\\n\")\n",
    "        for i in range(32):\n",
    "            m = str(i).zfill(2)\n",
    "            n_m = str(i+32).zfill(2)\n",
    "            file.write(\"kw_%s_%s\"%(r,n_m) + \" + kr_%s_%0s\"%(r,m) +\" + kr_%s_%0s\"%(r,n_m+\",\\n\"))\n",
    "        for i in range(16):\n",
    "            m = str(i).zfill(2)\n",
    "            file.write(\"ki_%s_%s\"%(r+1,m) + \" + kw_%s_%s\"%(r,m)+\",\\n\")\n",
    "\n",
    "        r_bits = [(r >> i) & 1 for i in range(7,-1,-1)]\n",
    "\n",
    "        for i in range(16,24):\n",
    "            m = str(i).zfill(2)\n",
    "            file.write(\"ki_%s_%s\"%(r+1,m) + \" + kw_%s_%s\"%(r,m) + \" + %s\"%(r_bits[i-16])+\",\\n\")\n",
    "        for i in range(24,40):\n",
    "            m = str(i).zfill(2)\n",
    "            file.write(\"ki_%s_%s\"%(r+1,m) + \" + kw_%s_%s\"%(r,m)+\",\\n\")\n",
    "        for s in range(4):\n",
    "            for py in py_s:\n",
    "                newp = py.replace(\"x0\",\"kw_%s_%s\"%(r,  40+4*s))\n",
    "                newp = newp.replace(\"x1\",\"kw_%s_%s\"%(r,  41+4*s))\n",
    "                newp = newp.replace(\"x2\",\"kw_%s_%s\"%(r,  42+4*s))\n",
    "                newp = newp.replace(\"x3\",\"kw_%s_%s\"%(r,  43+4*s))\n",
    "                newp = newp.replace(\"y0\",\"ki_%s_%s\"%(r+1,40+4*s))\n",
    "                newp = newp.replace(\"y1\",\"ki_%s_%s\"%(r+1,41+4*s))\n",
    "                newp = newp.replace(\"y2\",\"ki_%s_%s\"%(r+1,42+4*s))\n",
    "                newp = newp.replace(\"y3\",\"ki_%s_%s\"%(r+1,43+4*s))\n",
    "                file.write(newp+\",\\n\")\n",
    "        for i in range(56,64):\n",
    "            m = str(i).zfill(2)\n",
    "            file.write(\"ki_%s_%s\"%(r+1,m) + \" + kw_%s_%s\"%(r,m)+\",\\n\")\n",
    "    file.write(\"]\\n\")"
   ]
  },
  {
   "cell_type": "code",
   "execution_count": 0,
   "metadata": {
    "collapsed": false
   },
   "outputs": [
   ],
   "source": [
   ]
  },
  {
   "cell_type": "code",
   "execution_count": 0,
   "metadata": {
    "collapsed": false
   },
   "outputs": [
   ],
   "source": [
   ]
  },
  {
   "cell_type": "code",
   "execution_count": 0,
   "metadata": {
    "collapsed": false
   },
   "outputs": [
   ],
   "source": [
   ]
  }
 ],
 "metadata": {
  "kernelspec": {
   "display_name": "SageMath (stable)",
   "language": "sagemath",
   "metadata": {
    "cocalc": {
     "description": "Open-source mathematical software system",
     "priority": 10,
     "url": "https://www.sagemath.org/"
    }
   },
   "name": "sagemath"
  },
  "language_info": {
   "codemirror_mode": {
    "name": "ipython",
    "version": 2
   },
   "file_extension": ".py",
   "mimetype": "text/x-python",
   "name": "python",
   "nbconvert_exporter": "python",
   "pygments_lexer": "ipython2",
   "version": "2.7.15"
  }
 },
 "nbformat": 4,
 "nbformat_minor": 0
}