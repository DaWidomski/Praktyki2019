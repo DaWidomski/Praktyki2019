{
 "cells": [
  {
   "cell_type": "code",
   "execution_count": 4,
   "metadata": {
    "collapsed": false
   },
   "outputs": [
   ],
   "source": [
    "from sage.crypto.sbox import SBox\n",
    "from sage.crypto.boolean_function import BooleanFunction\n",
    "\n",
    "file_polynomial = 'klein/permutation_equation.anf'\n",
    "\n",
    "with open(file_polynomial,\"w\") as file:\n",
    "    file.write(\"ANF = \\n[\")\n",
    "    for i in range(16):\n",
    "        py = \"s_%s_%s_%s\"%(0,1,str(i).zfill(2)) + \" + p_%s_%s_%s\"%(0,1,str(i+48).zfill(2))\n",
    "        file.write(py+\",\\n\")\n",
    "    for i in range(16,64):\n",
    "        py = \"s_%s_%s_%s\"%(0,1,str(i).zfill(2)) + \" + p_%s_%s_%s\"%(0,1,str(i-16).zfill(2))\n",
    "        file.write(py+\",\\n\")\n",
    "    file.write(\"]\\n\")"
   ]
  },
  {
   "cell_type": "code",
   "execution_count": 0,
   "metadata": {
    "collapsed": false
   },
   "outputs": [
   ],
   "source": [
   ]
  },
  {
   "cell_type": "code",
   "execution_count": 0,
   "metadata": {
    "collapsed": false
   },
   "outputs": [
   ],
   "source": [
   ]
  },
  {
   "cell_type": "code",
   "execution_count": 0,
   "metadata": {
    "collapsed": false
   },
   "outputs": [
   ],
   "source": [
   ]
  }
 ],
 "metadata": {
  "kernelspec": {
   "display_name": "SageMath (stable)",
   "language": "sagemath",
   "metadata": {
    "cocalc": {
     "description": "Open-source mathematical software system",
     "priority": 10,
     "url": "https://www.sagemath.org/"
    }
   },
   "name": "sagemath"
  },
  "language_info": {
   "codemirror_mode": {
    "name": "ipython",
    "version": 2
   },
   "file_extension": ".py",
   "mimetype": "text/x-python",
   "name": "python",
   "nbconvert_exporter": "python",
   "pygments_lexer": "ipython2",
   "version": "2.7.15"
  }
 },
 "nbformat": 4,
 "nbformat_minor": 0
}